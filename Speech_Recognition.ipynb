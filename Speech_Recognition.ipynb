{
  "nbformat": 4,
  "nbformat_minor": 0,
  "metadata": {
    "colab": {
      "name": "Speech_Recognition.ipynb",
      "provenance": []
    },
    "kernelspec": {
      "name": "python3",
      "display_name": "Python 3"
    },
    "language_info": {
      "name": "python"
    }
  },
  "cells": [
    {
      "cell_type": "code",
      "metadata": {
        "colab": {
          "base_uri": "https://localhost:8080/"
        },
        "id": "Sd5iYG8y6cj5",
        "outputId": "ef57944e-5e0d-42a6-9c3c-8f8da5f473c0"
      },
      "source": [
        "!pip install speechrecognition"
      ],
      "execution_count": 69,
      "outputs": [
        {
          "output_type": "stream",
          "name": "stdout",
          "text": [
            "Requirement already satisfied: speechrecognition in /usr/local/lib/python3.7/dist-packages (3.8.1)\n"
          ]
        }
      ]
    },
    {
      "cell_type": "code",
      "metadata": {
        "id": "nq0PFVudG6PI"
      },
      "source": [
        "import speech_recognition as sp"
      ],
      "execution_count": 70,
      "outputs": []
    },
    {
      "cell_type": "code",
      "metadata": {
        "colab": {
          "base_uri": "https://localhost:8080/",
          "height": 35
        },
        "id": "u1yNlv15G924",
        "outputId": "80865853-fda7-42a8-ffbd-7a0c5a8dc632"
      },
      "source": [
        "sp.__version__"
      ],
      "execution_count": 71,
      "outputs": [
        {
          "output_type": "execute_result",
          "data": {
            "application/vnd.google.colaboratory.intrinsic+json": {
              "type": "string"
            },
            "text/plain": [
              "'3.8.1'"
            ]
          },
          "metadata": {},
          "execution_count": 71
        }
      ]
    },
    {
      "cell_type": "code",
      "metadata": {
        "id": "y-H4VcUBKUJC"
      },
      "source": [
        "recog=sp.Recognizer()"
      ],
      "execution_count": 72,
      "outputs": []
    },
    {
      "cell_type": "code",
      "metadata": {
        "id": "vDGNJVHWKZpy"
      },
      "source": [
        "speech=sp.AudioFile('/content/recording.wav')"
      ],
      "execution_count": 73,
      "outputs": []
    },
    {
      "cell_type": "code",
      "metadata": {
        "id": "BH3pZBt9KsY6"
      },
      "source": [
        "with speech as filesource:\n",
        "  audio=recog.record(filesource,offset=6.7)"
      ],
      "execution_count": 74,
      "outputs": []
    },
    {
      "cell_type": "code",
      "metadata": {
        "colab": {
          "base_uri": "https://localhost:8080/",
          "height": 35
        },
        "id": "eMJLNQfCK4aY",
        "outputId": "033e9e71-79eb-461e-e6bb-d6e78b4f12f8"
      },
      "source": [
        "recog.recognize_google(audio)"
      ],
      "execution_count": 75,
      "outputs": [
        {
          "output_type": "execute_result",
          "data": {
            "application/vnd.google.colaboratory.intrinsic+json": {
              "type": "string"
            },
            "text/plain": [
              "'data science and Analytics'"
            ]
          },
          "metadata": {},
          "execution_count": 75
        }
      ]
    },
    {
      "cell_type": "code",
      "metadata": {
        "id": "rOLGTickMAtF"
      },
      "source": [
        "with speech as filesource:\n",
        "  audio1=recog.record(filesource,duration=2)\n",
        "  audio2=recog.record(filesource,offset=6.7,duration=5)"
      ],
      "execution_count": 81,
      "outputs": []
    },
    {
      "cell_type": "code",
      "metadata": {
        "colab": {
          "base_uri": "https://localhost:8080/",
          "height": 35
        },
        "id": "jkOdvArFMPjo",
        "outputId": "f610812d-6274-41ed-95af-ced1f69fc6ce"
      },
      "source": [
        "recog.recognize_google(audio1)"
      ],
      "execution_count": 82,
      "outputs": [
        {
          "output_type": "execute_result",
          "data": {
            "application/vnd.google.colaboratory.intrinsic+json": {
              "type": "string"
            },
            "text/plain": [
              "'hi'"
            ]
          },
          "metadata": {},
          "execution_count": 82
        }
      ]
    },
    {
      "cell_type": "code",
      "metadata": {
        "colab": {
          "base_uri": "https://localhost:8080/",
          "height": 35
        },
        "id": "to_WlDk3MRH9",
        "outputId": "b424ce6f-7d4a-4fe7-b4c5-23f535960e78"
      },
      "source": [
        "recog.recognize_google(audio2)"
      ],
      "execution_count": 78,
      "outputs": [
        {
          "output_type": "execute_result",
          "data": {
            "application/vnd.google.colaboratory.intrinsic+json": {
              "type": "string"
            },
            "text/plain": [
              "'Analytics'"
            ]
          },
          "metadata": {},
          "execution_count": 78
        }
      ]
    }
  ]
}