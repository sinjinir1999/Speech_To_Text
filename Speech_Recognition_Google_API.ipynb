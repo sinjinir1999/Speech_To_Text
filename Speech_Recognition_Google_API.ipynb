{
  "nbformat": 4,
  "nbformat_minor": 0,
  "metadata": {
    "colab": {
      "name": "Speech_Recognition_Google_API.ipynb",
      "provenance": []
    },
    "kernelspec": {
      "name": "python3",
      "display_name": "Python 3"
    },
    "language_info": {
      "name": "python"
    }
  },
  "cells": [
    {
      "cell_type": "code",
      "metadata": {
        "colab": {
          "base_uri": "https://localhost:8080/"
        },
        "id": "Sd5iYG8y6cj5",
        "outputId": "7f8bb362-f602-421d-803d-29703747dd6f"
      },
      "source": [
        "!pip install speechrecognition"
      ],
      "execution_count": 1,
      "outputs": [
        {
          "output_type": "stream",
          "name": "stdout",
          "text": [
            "Collecting speechrecognition\n",
            "  Downloading SpeechRecognition-3.8.1-py2.py3-none-any.whl (32.8 MB)\n",
            "\u001b[K     |████████████████████████████████| 32.8 MB 37 kB/s \n",
            "\u001b[?25hInstalling collected packages: speechrecognition\n",
            "Successfully installed speechrecognition-3.8.1\n"
          ]
        }
      ]
    },
    {
      "cell_type": "code",
      "metadata": {
        "id": "nq0PFVudG6PI"
      },
      "source": [
        "import speech_recognition as sp"
      ],
      "execution_count": 2,
      "outputs": []
    },
    {
      "cell_type": "code",
      "metadata": {
        "colab": {
          "base_uri": "https://localhost:8080/",
          "height": 35
        },
        "id": "u1yNlv15G924",
        "outputId": "633bb3df-3614-40bd-8641-2a2525781e59"
      },
      "source": [
        "sp.__version__"
      ],
      "execution_count": 3,
      "outputs": [
        {
          "output_type": "execute_result",
          "data": {
            "application/vnd.google.colaboratory.intrinsic+json": {
              "type": "string"
            },
            "text/plain": [
              "'3.8.1'"
            ]
          },
          "metadata": {},
          "execution_count": 3
        }
      ]
    },
    {
      "cell_type": "code",
      "metadata": {
        "id": "y-H4VcUBKUJC"
      },
      "source": [
        "recog=sp.Recognizer()"
      ],
      "execution_count": 4,
      "outputs": []
    },
    {
      "cell_type": "code",
      "metadata": {
        "id": "vDGNJVHWKZpy"
      },
      "source": [
        "speech=sp.AudioFile('/content/recording.wav')"
      ],
      "execution_count": 5,
      "outputs": []
    },
    {
      "cell_type": "code",
      "metadata": {
        "id": "BH3pZBt9KsY6"
      },
      "source": [
        "with speech as noisesource:\n",
        "  recog.adjust_for_ambient_noise(noisesource)\n",
        "  audio=recog.record(noisesource)"
      ],
      "execution_count": 6,
      "outputs": []
    },
    {
      "cell_type": "code",
      "metadata": {
        "colab": {
          "base_uri": "https://localhost:8080/",
          "height": 35
        },
        "id": "eMJLNQfCK4aY",
        "outputId": "a6229862-f423-4de8-d96b-152ab8658349"
      },
      "source": [
        "recog.recognize_google(audio)"
      ],
      "execution_count": 7,
      "outputs": [
        {
          "output_type": "execute_result",
          "data": {
            "application/vnd.google.colaboratory.intrinsic+json": {
              "type": "string"
            },
            "text/plain": [
              "'hi my name is Geneva and have a keen interest in data science and Analytics'"
            ]
          },
          "metadata": {},
          "execution_count": 7
        }
      ]
    },
    {
      "cell_type": "code",
      "metadata": {
        "colab": {
          "base_uri": "https://localhost:8080/"
        },
        "id": "to_WlDk3MRH9",
        "outputId": "a9781431-6be8-4d34-af3d-2ed54869e76f"
      },
      "source": [
        "recog.recognize_google(audio,show_all=True)"
      ],
      "execution_count": 9,
      "outputs": [
        {
          "output_type": "execute_result",
          "data": {
            "text/plain": [
              "{'alternative': [{'confidence': 0.77173734,\n",
              "   'transcript': 'hi my name is Geneva and have a keen interest in data science and Analytics'},\n",
              "  {'transcript': 'hi my name is engineering and have a keen interest in data science and Analytics'},\n",
              "  {'transcript': 'hi my name is engineer I and have a keen interest in data science and Analytics'},\n",
              "  {'transcript': 'hi my name is Geneva and I have a keen interest in data science and Analytics'},\n",
              "  {'transcript': 'hi my name is Janine and have a keen interest in data science and Analytics'}],\n",
              " 'final': True}"
            ]
          },
          "metadata": {},
          "execution_count": 9
        }
      ]
    }
  ]
}